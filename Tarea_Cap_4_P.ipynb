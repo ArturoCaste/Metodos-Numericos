{
 "cells": [
  {
   "cell_type": "markdown",
   "id": "de108b66",
   "metadata": {},
   "source": [
    "### $Q^0 = 1$\n",
    "### $Z^1 = A Q $\n",
    "### $Z^1 -> (Q^1, R^1)$"
   ]
  },
  {
   "cell_type": "code",
   "execution_count": 2,
   "id": "2fd09d95",
   "metadata": {},
   "outputs": [
    {
     "name": "stdout",
     "output_type": "stream",
     "text": [
      "[ 5.33605887 -0.19676761 -0.13541854 -0.09524368]\n",
      "[ 5.33605887 -0.19676761 -0.13541854 -0.09524368]\n",
      " \n",
      "[0.14941285 0.10032435 0.06814924 4.6888955 ]\n",
      "[0.14941285 0.10032435 0.06814924 4.6888955 ]\n"
     ]
    }
   ],
   "source": [
    "import numpy as np\n",
    "\n",
    "\n",
    "def forsub(L,bs): #### Metemos 2 matrices, la diagonal inferior de L y la matriz de resultados\n",
    "    n = bs.size   #### Definimos a n, el cual es el tamaño de nuestra fila  de resultados \n",
    "    xs = np.zeros(n) ### Creamos, la matriz donde vamos a guardar nuestros resultados\n",
    "    for i in range(n):  ####  Usamos la ecuación  4.55\n",
    "        #### Para encontrar los valores de nuestras x´s\n",
    "        xs[i] = (bs[i] - L[i,:i]@xs[:i])/L[i,i] \n",
    "    #print(xs) \n",
    "    return xs\n",
    "\n",
    "\n",
    "def backsub(U,bs): ##### Definimos nuestra matriz superior y nuestra columna de resultados\n",
    "    n = bs.size  ### definimos un valor el cual es el tamaño de nuestra matriz de soluciones\n",
    "    xs = np.zeros(n) #### Definimos  una nueva matriz en la cual colocaremos nuestras soluciones\n",
    "    \n",
    "    for i in reversed(range(n)): ### Usando la ecuación 4.60\n",
    "        #### Obtenemos las soluciones, pero, usando una regresión\n",
    "        xs[i] = (bs[i] - U[i,i+1:]@xs[i+1:])/U[i,i]\n",
    "\n",
    "    return xs\n",
    "\n",
    "def testcreate(n,val):\n",
    "    #### Vamos a crear las matrices, de tamaño nxn, la cual estará creada de manera escalonada\n",
    "    ### Y luego sacaremos su raiz\n",
    "    A = np.arange(val,val+n*n).reshape(n,n)\n",
    "    A = np.sqrt(A)\n",
    "    #### De la matriz A obtenemos la matriz de resultados, donde sus elementos se obtienen elevando a la 2.3 \n",
    "    #### los elementos de la primera fila de A\n",
    "    bs = (A[0,:])**2.1\n",
    "    #print(bs)\n",
    "    return A, bs\n",
    "\n",
    "\n",
    "def testsolve(f,A,bs):\n",
    "    xs = f(A,bs); print(xs) ### Vamos a imprimir los resultados usando nuestras funciones \n",
    "    xs = np.linalg.solve(A,bs); print(xs) ### Usando la libreria de linalg\n",
    "    \n",
    "    \n",
    "\n",
    "A, bs = testcreate(4,21)\n",
    "L = np.tril(A) #### Extrae la parte superior \n",
    "#### Aplicamos el test, usando la función forsub, y la matriz superior con los resultados bs\n",
    "testsolve(forsub,L,bs)\n",
    "print(\" \")\n",
    "U = np.triu(A) \n",
    "#### #### Aplicamos el test, usando la función backsub y la matriz inferior con los resultados bs\n",
    "testsolve(backsub,U,bs)"
   ]
  },
  {
   "cell_type": "code",
   "execution_count": 3,
   "id": "07d533c4",
   "metadata": {},
   "outputs": [
    {
     "name": "stdout",
     "output_type": "stream",
     "text": [
      " \n",
      "21.316662663452007\n",
      "[0.44439562 0.48218122 0.51720906 0.55000781]\n",
      " \n",
      "21.316662663452043\n",
      "[0.44439562 0.48218122 0.51720906 0.55000781]\n"
     ]
    }
   ],
   "source": [
    "def mag(xs):\n",
    "    ### Obtenemos la normalización de cualquier matriz columna o fila\n",
    "    return np.sqrt(np.sum(xs*xs))\n",
    "\n",
    "def power(A,kmax=6): #### Igresamos la matriz a la queremos obtener sus\n",
    "    ### Eigen valores, y k mak, las iteraciones para este metodo de potencias\n",
    "    zs = np.ones(A.shape[0]) ### creamos un vector con el tamaño del número\n",
    "    ### de filas  de A\n",
    "    qs = zs/mag(zs) ### Normalizamos el vector zs\n",
    "    for k in range(1,kmax):\n",
    "        zs = A@qs #### Multiplica la matriz A por el vector normalizado\n",
    "        qs = zs/mag(zs) #### reasinamos el nuevo valor qs, con el resultado anteior\n",
    "        #print(k,qs)\n",
    "    lam = qs@A@qs ### Obtenemos los eigenvalores \n",
    "    return lam, qs #### Obtenemos su eigenvector y eigenvalor asociado \n",
    "\n",
    "def testeigone(f,A,indx=0):\n",
    "    eigval, eigvec = f(A) ### Aqui testeamos el metodo, usando\n",
    "    ### La librería  dedicada y nuestro progrma \n",
    "    print(\" \"); print(eigval); print(eigvec)\n",
    "    npeigvals, npeigvecs = np.linalg.eig(A)\n",
    "    print(\" \")\n",
    "    print(npeigvals[indx]); print(npeigvecs[:,indx])\n",
    "    \n",
    "A,_ = testcreate(4,21)\n",
    "testeigone(power,A)\n"
   ]
  },
  {
   "cell_type": "code",
   "execution_count": 4,
   "id": "e1233da1",
   "metadata": {},
   "outputs": [
    {
     "name": "stdout",
     "output_type": "stream",
     "text": [
      "4 0.0 0.00757477938982088\n",
      "6 2.5121479338940403e-15 2.446997224625433\n",
      "8 4.5288390936029406e-15 3.508585247394872\n",
      "10 8.379058453350832e-15 5.7407941575740855\n",
      "12 9.81025129326275e-15 8.375274941271778\n",
      "14 1.656875357463295e-14 10.234951045392204\n",
      "16 2.398081733190338e-14 12.44307749705754\n",
      "18 3.4616177071287305e-14 14.42397726224636\n"
     ]
    }
   ],
   "source": [
    "def qrdec(A):\n",
    "    n = A.shape[0] ### Obtemos el número de filas de la matriz A\n",
    "    Ap = np.copy(A) #### Copiamos los valores de la matriz en Ap\n",
    "    Q = np.zeros((n,n)) #### Creamos un arreglo nxn de ceros para guardar nuestra matriz Q\n",
    "    R = np.zeros((n,n)) ### Hacemos lo mismo para R \n",
    "    for j in range(n):\n",
    "        for i in range(j): ### Aplicamos el metodo QR \n",
    "            R[i,j] = Q[:,i]@A[:,j] \n",
    "            Ap[:,j] -= R[i,j]*Q[:,i] #### De la definición iteramos hasta obtener todos los valores de Ap\n",
    "        R[j,j] = mag(Ap[:,j]) ### Reasignamos un nuevo valor de R y con ello a Q\n",
    "        Q[:,j] = Ap[:,j]/R[j,j]\n",
    "    return Q, R\n",
    "\n",
    "def testqrdec(A):\n",
    "    n = A.shape[0] ### Obtemos el número de filas de la matriz A\n",
    "    Q, R = qrdec(A) #### Aplicamos el metodo qr\n",
    "    diffa = A - Q@R #### Obtenemos la diferencia para ver que tan parecida es nuestra qr a A\n",
    "    diffq = np.transpose(Q)@Q - np.identity(n) ### Hacemos lo mismo para nuestras q´s\n",
    "    print(n, mag(diffa), mag(diffq))\n",
    "\n",
    "    \n",
    "for n in range(4,20,2):\n",
    "    A,_ = testcreate(n,21)\n",
    "    testqrdec(A)"
   ]
  },
  {
   "cell_type": "code",
   "execution_count": 11,
   "id": "6b4d45a9",
   "metadata": {},
   "outputs": [
    {
     "name": "stdout",
     "output_type": "stream",
     "text": [
      "[[0. 0. 0. 0. 0. 0. 0.]\n",
      " [0. 0. 0. 0. 0. 0. 0.]\n",
      " [0. 0. 0. 0. 0. 0. 0.]\n",
      " [0. 0. 0. 0. 0. 0. 0.]\n",
      " [0. 0. 0. 0. 0. 0. 0.]\n",
      " [0. 0. 0. 0. 0. 0. 0.]\n",
      " [0. 0. 0. 0. 0. 0. 0.]]\n",
      "[[ 0.5        -0.30396355  0.07599089 -0.03377373  0.01899772 -0.01215854\n",
      "   0.00844343]\n",
      " [-0.30396355  0.          0.          0.          0.          0.\n",
      "   0.        ]\n",
      " [ 0.07599089  0.          0.          0.          0.          0.\n",
      "   0.        ]\n",
      " [-0.03377373  0.          0.          0.          0.          0.\n",
      "   0.        ]\n",
      " [ 0.01899772  0.          0.          0.          0.          0.\n",
      "   0.        ]\n",
      " [-0.01215854  0.          0.          0.          0.          0.\n",
      "   0.        ]\n",
      " [ 0.00844343  0.          0.          0.          0.          0.\n",
      "   0.        ]]\n",
      "[[ 0.5        -0.30396355  0.07599089 -0.03377373  0.01899772 -0.01215854\n",
      "   0.00844343]\n",
      " [-0.30396355  2.14493407 -0.30396355  0.07599089 -0.03377373  0.01899772\n",
      "  -0.01215854]\n",
      " [ 0.07599089 -0.30396355  0.          0.          0.          0.\n",
      "   0.        ]\n",
      " [-0.03377373  0.07599089  0.          0.          0.          0.\n",
      "   0.        ]\n",
      " [ 0.01899772 -0.03377373  0.          0.          0.          0.\n",
      "   0.        ]\n",
      " [-0.01215854  0.01899772  0.          0.          0.          0.\n",
      "   0.        ]\n",
      " [ 0.00844343 -0.01215854  0.          0.          0.          0.\n",
      "   0.        ]]\n",
      "[[ 0.5        -0.30396355  0.07599089 -0.03377373  0.01899772 -0.01215854\n",
      "   0.00844343]\n",
      " [-0.30396355  2.14493407 -0.30396355  0.07599089 -0.03377373  0.01899772\n",
      "  -0.01215854]\n",
      " [ 0.07599089 -0.30396355  7.07973627 -0.30396355  0.07599089 -0.03377373\n",
      "   0.01899772]\n",
      " [-0.03377373  0.07599089 -0.30396355  0.          0.          0.\n",
      "   0.        ]\n",
      " [ 0.01899772 -0.03377373  0.07599089  0.          0.          0.\n",
      "   0.        ]\n",
      " [-0.01215854  0.01899772 -0.03377373  0.          0.          0.\n",
      "   0.        ]\n",
      " [ 0.00844343 -0.01215854  0.01899772  0.          0.          0.\n",
      "   0.        ]]\n",
      "[[ 5.00000000e-01 -3.03963551e-01  7.59908877e-02 -3.37737279e-02\n",
      "   1.89977219e-02 -1.21585420e-02  8.44343197e-03]\n",
      " [-3.03963551e-01  2.14493407e+00 -3.03963551e-01  7.59908877e-02\n",
      "  -3.37737279e-02  1.89977219e-02 -1.21585420e-02]\n",
      " [ 7.59908877e-02 -3.03963551e-01  7.07973627e+00 -3.03963551e-01\n",
      "   7.59908877e-02 -3.37737279e-02  1.89977219e-02]\n",
      " [-3.37737279e-02  7.59908877e-02 -3.03963551e-01  1.53044066e+01\n",
      "  -3.03963551e-01  7.59908877e-02 -3.37737279e-02]\n",
      " [ 1.89977219e-02 -3.37737279e-02  7.59908877e-02 -3.03963551e-01\n",
      "   0.00000000e+00  0.00000000e+00  0.00000000e+00]\n",
      " [-1.21585420e-02  1.89977219e-02 -3.37737279e-02  7.59908877e-02\n",
      "   0.00000000e+00  0.00000000e+00  0.00000000e+00]\n",
      " [ 8.44343197e-03 -1.21585420e-02  1.89977219e-02 -3.37737279e-02\n",
      "   0.00000000e+00  0.00000000e+00  0.00000000e+00]]\n",
      "[[ 5.00000000e-01 -3.03963551e-01  7.59908877e-02 -3.37737279e-02\n",
      "   1.89977219e-02 -1.21585420e-02  8.44343197e-03]\n",
      " [-3.03963551e-01  2.14493407e+00 -3.03963551e-01  7.59908877e-02\n",
      "  -3.37737279e-02  1.89977219e-02 -1.21585420e-02]\n",
      " [ 7.59908877e-02 -3.03963551e-01  7.07973627e+00 -3.03963551e-01\n",
      "   7.59908877e-02 -3.37737279e-02  1.89977219e-02]\n",
      " [-3.37737279e-02  7.59908877e-02 -3.03963551e-01  1.53044066e+01\n",
      "  -3.03963551e-01  7.59908877e-02 -3.37737279e-02]\n",
      " [ 1.89977219e-02 -3.37737279e-02  7.59908877e-02 -3.03963551e-01\n",
      "   2.68189451e+01 -3.03963551e-01  7.59908877e-02]\n",
      " [-1.21585420e-02  1.89977219e-02 -3.37737279e-02  7.59908877e-02\n",
      "  -3.03963551e-01  0.00000000e+00  0.00000000e+00]\n",
      " [ 8.44343197e-03 -1.21585420e-02  1.89977219e-02 -3.37737279e-02\n",
      "   7.59908877e-02  0.00000000e+00  0.00000000e+00]]\n",
      "[[ 5.00000000e-01 -3.03963551e-01  7.59908877e-02 -3.37737279e-02\n",
      "   1.89977219e-02 -1.21585420e-02  8.44343197e-03]\n",
      " [-3.03963551e-01  2.14493407e+00 -3.03963551e-01  7.59908877e-02\n",
      "  -3.37737279e-02  1.89977219e-02 -1.21585420e-02]\n",
      " [ 7.59908877e-02 -3.03963551e-01  7.07973627e+00 -3.03963551e-01\n",
      "   7.59908877e-02 -3.37737279e-02  1.89977219e-02]\n",
      " [-3.37737279e-02  7.59908877e-02 -3.03963551e-01  1.53044066e+01\n",
      "  -3.03963551e-01  7.59908877e-02 -3.37737279e-02]\n",
      " [ 1.89977219e-02 -3.37737279e-02  7.59908877e-02 -3.03963551e-01\n",
      "   2.68189451e+01 -3.03963551e-01  7.59908877e-02]\n",
      " [-1.21585420e-02  1.89977219e-02 -3.37737279e-02  7.59908877e-02\n",
      "  -3.03963551e-01  4.16233517e+01 -3.03963551e-01]\n",
      " [ 8.44343197e-03 -1.21585420e-02  1.89977219e-02 -3.37737279e-02\n",
      "   7.59908877e-02 -3.03963551e-01  0.00000000e+00]]\n",
      "99 [59.72297164 41.62473778 26.82091334 15.30791883  7.08789843  2.17903245\n",
      "  0.44552762]\n"
     ]
    },
    {
     "data": {
      "text/plain": [
       "array([59.72297164, 41.62473778, 26.82091334, 15.30791883,  7.08789843,\n",
       "        2.17903245,  0.44552762])"
      ]
     },
     "execution_count": 11,
     "metadata": {},
     "output_type": "execute_result"
    }
   ],
   "source": [
    "def compute_H(nmax, L, omega):\n",
    "    m = 1 #9.1093837015e-31\n",
    "    hbar = 1 # 1.055e-34\n",
    "    mu = np.sqrt(hbar/m*omega)\n",
    "    \n",
    "    H = np.zeros((2*nmax + 1, 2*nmax + 1))\n",
    "    n_x = H.shape[0]\n",
    "    \n",
    "    for i in range(n_x): \n",
    "        print(H)\n",
    "        for j in range(n_x):\n",
    "            if i == j:\n",
    "                k_n = (2*hbar**2 * np.pi**2 * i**2) / (m* L**2 )\n",
    "                H[i,j] = k_n +  ( m * omega ** 2 * L**2) / 24\n",
    "            else:\n",
    "                integral = ((-1)**(i - j) * (L**2* m* omega**2  ) )/ (4* np.pi**2  * (i - j)**2  )\n",
    "                H[i, j] =   integral\n",
    "                H[j, i] =   integral\n",
    "    return H\n",
    "\n",
    "L = np.sqrt(12) # 10e-10  \n",
    "omega = 1 #7.81e20 \n",
    "nmax = 3\n",
    "H = compute_H(nmax, L, omega)\n",
    "\n",
    "\n",
    "def qrmet(inA,kmax=100):\n",
    "    A = np.copy(inA)\n",
    "    for k in range(1,kmax):\n",
    "        Q, R = qrdec(A)\n",
    "        A = R@Q\n",
    "    print(k, np.diag(A))\n",
    "    qreigvals = np.diag(A)\n",
    "    return qreigvals\n",
    "\n",
    "M = qrmet(H)\n",
    "M"
   ]
  },
  {
   "cell_type": "code",
   "execution_count": 8,
   "id": "610fb61d",
   "metadata": {
    "scrolled": true
   },
   "outputs": [
    {
     "data": {
      "text/plain": [
       "array([65.06349422, 45.32124082, 29.17142481,  0.4159329 ,  2.27953587,\n",
       "        7.64249929, 16.61129642])"
      ]
     },
     "execution_count": 8,
     "metadata": {},
     "output_type": "execute_result"
    }
   ],
   "source": [
    "np.linalg.eigvals(H)"
   ]
  }
 ],
 "metadata": {
  "kernelspec": {
   "display_name": "Python 3 (ipykernel)",
   "language": "python",
   "name": "python3"
  },
  "language_info": {
   "codemirror_mode": {
    "name": "ipython",
    "version": 3
   },
   "file_extension": ".py",
   "mimetype": "text/x-python",
   "name": "python",
   "nbconvert_exporter": "python",
   "pygments_lexer": "ipython3",
   "version": "3.10.9"
  }
 },
 "nbformat": 4,
 "nbformat_minor": 5
}
